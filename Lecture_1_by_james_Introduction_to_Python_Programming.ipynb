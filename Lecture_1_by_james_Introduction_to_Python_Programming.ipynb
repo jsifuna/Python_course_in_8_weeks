{
  "cells": [
    {
      "cell_type": "markdown",
      "metadata": {
        "id": "9s4g1OD_XMzy"
      },
      "source": [
        "# Introduction to Python programming by James Sifuna, Ph.D"
      ]
    },
    {
      "cell_type": "markdown",
      "metadata": {
        "id": "rQDiDlc3XMz7"
      },
      "source": [
        "J.S. Sifuna (sifunajames at gmail.com)\n",
        "\n",
        "The latest version of this [IPython notebook](http://ipython.org/notebook.html) lecture is available at [http://github.com/jsifuna/Python_course_in_8_weeks/tree/main](https://github.com/jsifuna/Python_course_in_8_weeks/tree/main).\n",
        "\n",
        "<!-- The other notebooks in this lecture series are indexed at [http://jrjohansson.github.io](http://jrjohansson.github.io). -->"
      ]
    },
    {
      "cell_type": "markdown",
      "metadata": {
        "id": "JFY0SNrgXMz8"
      },
      "source": [
        "## Python program files"
      ]
    },
    {
      "cell_type": "markdown",
      "metadata": {
        "id": "JAn_IR1FXMz9"
      },
      "source": [
        "* Python code is usually stored in text files with the file ending \"`.py`\":\n",
        "\n",
        "        myprogram.py\n",
        "\n",
        "* Every line in a Python program file is assumed to be a Python statement, or part thereof.\n",
        "\n",
        "    * The only exception is comment lines, which start with the character `#` (optionally preceded by an arbitrary number of white-space characters, i.e., tabs or spaces). Comment lines are usually ignored by the Python interpreter.\n",
        "\n",
        "\n",
        "* To run our Python program from the command line we use:\n",
        "\n",
        "        $ python myprogram.py\n",
        "\n",
        "* On UNIX systems it is common to define the path to the interpreter on the first line of the program (note that this is a comment line as far as the Python interpreter is concerned):\n",
        "\n",
        "        #!/usr/bin/env python\n",
        "\n",
        "  If we do, and if we additionally set the file script to be executable, we can run the program like this:\n",
        "\n",
        "        $ myprogram.py"
      ]
    },
    {
      "cell_type": "markdown",
      "metadata": {
        "id": "zSJVOYn9XMz-"
      },
      "source": [
        "### Example:"
      ]
    },
    {
      "cell_type": "code",
      "execution_count": 1,
      "metadata": {
        "id": "IGyT6mOaXMz-",
        "outputId": "0b49b185-5000-4dff-c1a2-d9b4f4e1c3a8",
        "colab": {
          "base_uri": "https://localhost:8080/"
        }
      },
      "outputs": [
        {
          "output_type": "stream",
          "name": "stdout",
          "text": [
            "ls: cannot access 'scripts/hello-world*.py': No such file or directory\n"
          ]
        }
      ],
      "source": [
        "ls scripts/hello-world*.py"
      ]
    },
    {
      "cell_type": "code",
      "execution_count": 2,
      "metadata": {
        "id": "YLumyRQnXM0B",
        "outputId": "7da5d5d5-66b6-4684-cb8a-d303c8a0493d",
        "colab": {
          "base_uri": "https://localhost:8080/"
        }
      },
      "outputs": [
        {
          "output_type": "stream",
          "name": "stdout",
          "text": [
            "cat: scripts/hello-world.py: No such file or directory\n"
          ]
        }
      ],
      "source": [
        "cat scripts/hello-world.py"
      ]
    },
    {
      "cell_type": "code",
      "execution_count": 3,
      "metadata": {
        "id": "JpQcmM6zXM0C",
        "outputId": "8a078aea-5a3e-444c-e0bc-4a353cbb433a",
        "colab": {
          "base_uri": "https://localhost:8080/"
        }
      },
      "outputs": [
        {
          "output_type": "stream",
          "name": "stdout",
          "text": [
            "python3: can't open file '/content/scripts/hello-world.py': [Errno 2] No such file or directory\n"
          ]
        }
      ],
      "source": [
        "!python scripts/hello-world.py"
      ]
    },
    {
      "cell_type": "markdown",
      "metadata": {
        "id": "VirZjEA6XM0C"
      },
      "source": [
        "### Character encoding"
      ]
    },
    {
      "cell_type": "markdown",
      "metadata": {
        "id": "6O31YWA3XM0D"
      },
      "source": [
        "The standard character encoding is ASCII, but we can use any other encoding, for example UTF-8. To specify that UTF-8 is used we include the special line\n",
        "\n",
        "    # -*- coding: UTF-8 -*-\n",
        "\n",
        "at the top of the file."
      ]
    },
    {
      "cell_type": "code",
      "execution_count": 4,
      "metadata": {
        "id": "fCx0UWwVXM0E",
        "outputId": "4757f674-deaf-43c8-f8fb-310bfd8efa33",
        "colab": {
          "base_uri": "https://localhost:8080/"
        }
      },
      "outputs": [
        {
          "output_type": "stream",
          "name": "stdout",
          "text": [
            "cat: scripts/hello-world-in-swedish.py: No such file or directory\n"
          ]
        }
      ],
      "source": [
        "cat scripts/hello-world-in-swedish.py"
      ]
    },
    {
      "cell_type": "code",
      "execution_count": 5,
      "metadata": {
        "id": "SOt7h4j0XM0E",
        "outputId": "e453aabc-b701-4dc7-de10-fd8be8c48961",
        "colab": {
          "base_uri": "https://localhost:8080/"
        }
      },
      "outputs": [
        {
          "output_type": "stream",
          "name": "stdout",
          "text": [
            "python3: can't open file '/content/scripts/hello-world-in-swedish.py': [Errno 2] No such file or directory\n"
          ]
        }
      ],
      "source": [
        "!python scripts/hello-world-in-swedish.py"
      ]
    },
    {
      "cell_type": "markdown",
      "metadata": {
        "id": "4SaKJ-R-XM0E"
      },
      "source": [
        "Other than these two *optional* lines in the beginning of a Python code file, no additional code is required for initializing a program."
      ]
    },
    {
      "cell_type": "markdown",
      "metadata": {
        "id": "vwx9io87XM0E"
      },
      "source": [
        "## IPython notebooks"
      ]
    },
    {
      "cell_type": "markdown",
      "metadata": {
        "id": "HYmS7cJvXM0G"
      },
      "source": [
        "This file - an IPython notebook -  does not follow the standard pattern with Python code in a text file. Instead, an IPython notebook is stored as a file in the [JSON](http://en.wikipedia.org/wiki/JSON) format. The advantage is that we can mix formatted text, Python code and code output. It requires the IPython notebook server to run it though, and therefore isn't a stand-alone Python program as described above. Other than that, there is no difference between the Python code that goes into a program file or an IPython notebook."
      ]
    },
    {
      "cell_type": "markdown",
      "metadata": {
        "id": "SrmyP_P6XM0G"
      },
      "source": [
        "## Modules"
      ]
    },
    {
      "cell_type": "markdown",
      "metadata": {
        "id": "wdmS-OqnXM0G"
      },
      "source": [
        "Most of the functionality in Python is provided by *modules*. The Python Standard Library is a large collection of modules that provides *cross-platform* implementations of common facilities such as access to the operating system, file I/O, string management, network communication, and much more."
      ]
    },
    {
      "cell_type": "markdown",
      "metadata": {
        "id": "eRqNzVE2XM0G"
      },
      "source": [
        "### References"
      ]
    },
    {
      "cell_type": "markdown",
      "metadata": {
        "id": "4WaKvBdtXM0G"
      },
      "source": [
        " * The Python Language Reference: http://docs.python.org/2/reference/index.html\n",
        " * The Python Standard Library: http://docs.python.org/2/library/\n",
        "\n",
        "To use a module in a Python program it first has to be imported. A module can be imported using the `import` statement. For example, to import the module `math`, which contains many standard mathematical functions, we can do:"
      ]
    },
    {
      "cell_type": "code",
      "execution_count": 6,
      "metadata": {
        "id": "AzipUytKXM0H"
      },
      "outputs": [],
      "source": [
        "import math"
      ]
    },
    {
      "cell_type": "markdown",
      "metadata": {
        "id": "VtjzdqFGXM0H"
      },
      "source": [
        "This includes the whole module and makes it available for use later in the program. For example, we can do:"
      ]
    },
    {
      "cell_type": "code",
      "execution_count": 7,
      "metadata": {
        "id": "hA3M8HOhXM0H",
        "outputId": "be9ed6b3-9d87-410d-d47b-bcc21e06771a",
        "colab": {
          "base_uri": "https://localhost:8080/"
        }
      },
      "outputs": [
        {
          "output_type": "stream",
          "name": "stdout",
          "text": [
            "1.0\n"
          ]
        }
      ],
      "source": [
        "import math\n",
        "\n",
        "x = math.cos(2 * math.pi)\n",
        "\n",
        "print(x)"
      ]
    },
    {
      "cell_type": "markdown",
      "metadata": {
        "id": "y-X-P9EvXM0I"
      },
      "source": [
        "Alternatively, we can choose to import all symbols (functions and variables) in a module to the current namespace so that we don't need to use the prefix \"`math.`\" every time we use something from the `math` module:"
      ]
    },
    {
      "cell_type": "code",
      "execution_count": 8,
      "metadata": {
        "id": "zTAXDYfWXM0I",
        "outputId": "ef4dc1a8-053c-4c07-d082-b272da2a6699",
        "colab": {
          "base_uri": "https://localhost:8080/"
        }
      },
      "outputs": [
        {
          "output_type": "stream",
          "name": "stdout",
          "text": [
            "1.0\n"
          ]
        }
      ],
      "source": [
        "from math import *\n",
        "\n",
        "x = cos(2 * pi)\n",
        "\n",
        "print(x)"
      ]
    },
    {
      "cell_type": "markdown",
      "metadata": {
        "id": "aNZa5eHuXM0I"
      },
      "source": [
        "This pattern can be very convenient, but in large programs that include many modules it is often a good idea to keep the symbols from each module in their own namespaces, by using the `import math` pattern. This would eliminate potentially confusing problems with name space collisions.\n",
        "\n",
        "As a third alternative, we can choose to import only a few selected symbols from a module by explicitly listing which ones we want to import instead of using the wildcard character `*`:"
      ]
    },
    {
      "cell_type": "code",
      "execution_count": 9,
      "metadata": {
        "id": "77yiu1qeXM0J",
        "outputId": "30a24021-1ba5-48e7-9f4e-3156ba2e74b5",
        "colab": {
          "base_uri": "https://localhost:8080/"
        }
      },
      "outputs": [
        {
          "output_type": "stream",
          "name": "stdout",
          "text": [
            "1.0\n"
          ]
        }
      ],
      "source": [
        "from math import cos, pi\n",
        "\n",
        "x = cos(2 * pi)\n",
        "\n",
        "print(x)"
      ]
    },
    {
      "cell_type": "markdown",
      "metadata": {
        "id": "M-4C93TTXM0J"
      },
      "source": [
        "### Looking at what a module contains, and its documentation"
      ]
    },
    {
      "cell_type": "markdown",
      "metadata": {
        "id": "Qh8vjgfEXM0J"
      },
      "source": [
        "Once a module is imported, we can list the symbols it provides using the `dir` function:"
      ]
    },
    {
      "cell_type": "code",
      "execution_count": 10,
      "metadata": {
        "id": "JgRnS0Z_XM0K",
        "outputId": "2dd1cbe1-d1f2-4cd3-c8b4-fcd531f44fd3",
        "colab": {
          "base_uri": "https://localhost:8080/"
        }
      },
      "outputs": [
        {
          "output_type": "stream",
          "name": "stdout",
          "text": [
            "['__doc__', '__loader__', '__name__', '__package__', '__spec__', 'acos', 'acosh', 'asin', 'asinh', 'atan', 'atan2', 'atanh', 'ceil', 'comb', 'copysign', 'cos', 'cosh', 'degrees', 'dist', 'e', 'erf', 'erfc', 'exp', 'expm1', 'fabs', 'factorial', 'floor', 'fmod', 'frexp', 'fsum', 'gamma', 'gcd', 'hypot', 'inf', 'isclose', 'isfinite', 'isinf', 'isnan', 'isqrt', 'lcm', 'ldexp', 'lgamma', 'log', 'log10', 'log1p', 'log2', 'modf', 'nan', 'nextafter', 'perm', 'pi', 'pow', 'prod', 'radians', 'remainder', 'sin', 'sinh', 'sqrt', 'tan', 'tanh', 'tau', 'trunc', 'ulp']\n"
          ]
        }
      ],
      "source": [
        "import math\n",
        "\n",
        "print(dir(math))"
      ]
    },
    {
      "cell_type": "markdown",
      "metadata": {
        "id": "VGJI4qSXXM0K"
      },
      "source": [
        "And using the function `help` we can get a description of each function (almost .. not all functions have docstrings, as they are technically called, but the vast majority of functions are documented this way)."
      ]
    },
    {
      "cell_type": "code",
      "execution_count": 11,
      "metadata": {
        "id": "bQtoK4xAXM0K",
        "outputId": "fa4fe694-7d56-436d-e97b-a72c1ac8050c",
        "colab": {
          "base_uri": "https://localhost:8080/"
        }
      },
      "outputs": [
        {
          "output_type": "stream",
          "name": "stdout",
          "text": [
            "Help on built-in function log in module math:\n",
            "\n",
            "log(...)\n",
            "    log(x, [base=math.e])\n",
            "    Return the logarithm of x to the given base.\n",
            "    \n",
            "    If the base not specified, returns the natural logarithm (base e) of x.\n",
            "\n"
          ]
        }
      ],
      "source": [
        "help(math.log)"
      ]
    },
    {
      "cell_type": "code",
      "execution_count": 12,
      "metadata": {
        "id": "dPPC78SiXM0L",
        "outputId": "9a6722f9-4107-4bc3-c3b1-64285927ce0c",
        "colab": {
          "base_uri": "https://localhost:8080/"
        }
      },
      "outputs": [
        {
          "output_type": "execute_result",
          "data": {
            "text/plain": [
              "2.302585092994046"
            ]
          },
          "metadata": {},
          "execution_count": 12
        }
      ],
      "source": [
        "log(10)"
      ]
    },
    {
      "cell_type": "code",
      "execution_count": 13,
      "metadata": {
        "id": "yLpevrdtXM0L",
        "outputId": "d6909506-e1e0-48c5-df27-5c3aa5b86b34",
        "colab": {
          "base_uri": "https://localhost:8080/"
        }
      },
      "outputs": [
        {
          "output_type": "execute_result",
          "data": {
            "text/plain": [
              "3.3219280948873626"
            ]
          },
          "metadata": {},
          "execution_count": 13
        }
      ],
      "source": [
        "log(10, 2)"
      ]
    },
    {
      "cell_type": "markdown",
      "metadata": {
        "id": "ptPonmgmXM0L"
      },
      "source": [
        "We can also use the `help` function directly on modules: Try\n",
        "\n",
        "    help(math)\n",
        "\n",
        "Some very useful modules form the Python standard library are `os`, `sys`, `math`, `shutil`, `re`, `subprocess`, `multiprocessing`, `threading`.\n",
        "\n",
        "A complete lists of standard modules for Python 2 and Python 3 are available at http://docs.python.org/2/library/ and http://docs.python.org/3/library/, respectively."
      ]
    },
    {
      "cell_type": "markdown",
      "metadata": {
        "id": "Btyz6Z-GXM0L"
      },
      "source": [
        "## Variables and types"
      ]
    },
    {
      "cell_type": "markdown",
      "metadata": {
        "id": "7Ro7SybEXM0M"
      },
      "source": [
        "### Symbol names"
      ]
    },
    {
      "cell_type": "markdown",
      "metadata": {
        "id": "lD6H9bpaXM0M"
      },
      "source": [
        "Variable names in Python can contain alphanumerical characters `a-z`, `A-Z`, `0-9` and some special characters such as `_`. Normal variable names must start with a letter.\n",
        "\n",
        "By convention, variable names start with a lower-case letter, and Class names start with a capital letter.\n",
        "\n",
        "In addition, there are a number of Python keywords that cannot be used as variable names. These keywords are:\n",
        "\n",
        "    and, as, assert, break, class, continue, def, del, elif, else, except,\n",
        "    exec, finally, for, from, global, if, import, in, is, lambda, not, or,\n",
        "    pass, print, raise, return, try, while, with, yield\n",
        "\n",
        "Note: Be aware of the keyword `lambda`, which could easily be a natural variable name in a scientific program. But being a keyword, it cannot be used as a variable name."
      ]
    },
    {
      "cell_type": "markdown",
      "metadata": {
        "id": "IfUIrz_rXM0M"
      },
      "source": [
        "### Assignment"
      ]
    },
    {
      "cell_type": "markdown",
      "metadata": {
        "id": "VYIjYiGfXM0M"
      },
      "source": [
        "\n",
        "\n",
        "The assignment operator in Python is `=`. Python is a dynamically typed language, so we do not need to specify the type of a variable when we create one.\n",
        "\n",
        "Assigning a value to a new variable creates the variable:"
      ]
    },
    {
      "cell_type": "code",
      "execution_count": 14,
      "metadata": {
        "id": "bAZrFwzdXM0N"
      },
      "outputs": [],
      "source": [
        "# variable assignments\n",
        "x = 1.0\n",
        "my_variable = 12.2"
      ]
    },
    {
      "cell_type": "markdown",
      "metadata": {
        "id": "BrKomEgdXM0N"
      },
      "source": [
        "Although not explicitly specified, a variable does have a type associated with it. The type is derived from the value that was assigned to it."
      ]
    },
    {
      "cell_type": "code",
      "execution_count": 15,
      "metadata": {
        "id": "nFZLhvkDXM0N",
        "outputId": "5a3b877d-5fff-4dd5-bd75-fdc4a62ad904",
        "colab": {
          "base_uri": "https://localhost:8080/"
        }
      },
      "outputs": [
        {
          "output_type": "execute_result",
          "data": {
            "text/plain": [
              "float"
            ]
          },
          "metadata": {},
          "execution_count": 15
        }
      ],
      "source": [
        "type(x)"
      ]
    },
    {
      "cell_type": "markdown",
      "metadata": {
        "id": "0mzx5s_bXM0N"
      },
      "source": [
        "If we assign a new value to a variable, its type can change."
      ]
    },
    {
      "cell_type": "code",
      "execution_count": 16,
      "metadata": {
        "id": "qn6Umi-kXM0O"
      },
      "outputs": [],
      "source": [
        "x = 1"
      ]
    },
    {
      "cell_type": "code",
      "execution_count": 17,
      "metadata": {
        "id": "Tvl6TQRaXM0O",
        "outputId": "146d5448-e678-43b7-bfa9-e5f17d26d71c",
        "colab": {
          "base_uri": "https://localhost:8080/"
        }
      },
      "outputs": [
        {
          "output_type": "execute_result",
          "data": {
            "text/plain": [
              "int"
            ]
          },
          "metadata": {},
          "execution_count": 17
        }
      ],
      "source": [
        "type(x)"
      ]
    },
    {
      "cell_type": "markdown",
      "metadata": {
        "id": "hGH1WmvkXM0O"
      },
      "source": [
        "If we try to use a variable that has not yet been defined we get an `NameError`:"
      ]
    },
    {
      "cell_type": "code",
      "execution_count": 18,
      "metadata": {
        "id": "IsGaCYMXXM0O",
        "outputId": "83001568-adf4-4243-f18f-28c25a43e3b3",
        "colab": {
          "base_uri": "https://localhost:8080/",
          "height": 179
        }
      },
      "outputs": [
        {
          "output_type": "error",
          "ename": "NameError",
          "evalue": "ignored",
          "traceback": [
            "\u001b[0;31m---------------------------------------------------------------------------\u001b[0m",
            "\u001b[0;31mNameError\u001b[0m                                 Traceback (most recent call last)",
            "\u001b[0;32m<ipython-input-18-d9183e048de3>\u001b[0m in \u001b[0;36m<cell line: 1>\u001b[0;34m()\u001b[0m\n\u001b[0;32m----> 1\u001b[0;31m \u001b[0mprint\u001b[0m\u001b[0;34m(\u001b[0m\u001b[0my\u001b[0m\u001b[0;34m)\u001b[0m\u001b[0;34m\u001b[0m\u001b[0;34m\u001b[0m\u001b[0m\n\u001b[0m",
            "\u001b[0;31mNameError\u001b[0m: name 'y' is not defined"
          ]
        }
      ],
      "source": [
        "print(y)"
      ]
    },
    {
      "cell_type": "markdown",
      "metadata": {
        "id": "8KrWE45_XM0P"
      },
      "source": [
        "### Fundamental types"
      ]
    },
    {
      "cell_type": "code",
      "execution_count": null,
      "metadata": {
        "id": "B76aWfgaXM0P"
      },
      "outputs": [],
      "source": [
        "# integers\n",
        "x = 1\n",
        "type(x)"
      ]
    },
    {
      "cell_type": "code",
      "execution_count": null,
      "metadata": {
        "id": "e7zAqXiMXM0P"
      },
      "outputs": [],
      "source": [
        "# float\n",
        "x = 1.0\n",
        "type(x)"
      ]
    },
    {
      "cell_type": "code",
      "execution_count": null,
      "metadata": {
        "id": "5g_lVM2oXM0Q"
      },
      "outputs": [],
      "source": [
        "# boolean\n",
        "b1 = True\n",
        "b2 = False\n",
        "\n",
        "type(b1)"
      ]
    },
    {
      "cell_type": "code",
      "execution_count": null,
      "metadata": {
        "id": "GmKkLPFLXM0Q"
      },
      "outputs": [],
      "source": [
        "# complex numbers: note the use of `j` to specify the imaginary part\n",
        "x = 1.0 - 1.0j\n",
        "type(x)"
      ]
    },
    {
      "cell_type": "code",
      "execution_count": null,
      "metadata": {
        "id": "BXjGufpBXM0Q"
      },
      "outputs": [],
      "source": [
        "print(x)"
      ]
    },
    {
      "cell_type": "code",
      "execution_count": null,
      "metadata": {
        "id": "DnOxzG50XM0R"
      },
      "outputs": [],
      "source": [
        "print(x.real, x.imag)"
      ]
    },
    {
      "cell_type": "markdown",
      "metadata": {
        "id": "ow6LQ85tXM0R"
      },
      "source": [
        "### Type utility functions"
      ]
    },
    {
      "cell_type": "markdown",
      "metadata": {
        "id": "ujWij3N1XM0R"
      },
      "source": [
        "\n",
        "The module `types` contains a number of type name definitions that can be used to test if variables are of certain types:"
      ]
    },
    {
      "cell_type": "code",
      "execution_count": null,
      "metadata": {
        "id": "l_uCKPorXM0S"
      },
      "outputs": [],
      "source": [
        "import types\n",
        "\n",
        "# print all types defined in the `types` module\n",
        "print(dir(types))"
      ]
    },
    {
      "cell_type": "code",
      "execution_count": null,
      "metadata": {
        "id": "rd9-giYMXM0S"
      },
      "outputs": [],
      "source": [
        "x = 1.0\n",
        "\n",
        "# check if the variable x is a float\n",
        "type(x) is float"
      ]
    },
    {
      "cell_type": "code",
      "execution_count": null,
      "metadata": {
        "id": "2IfPwnZpXM0S"
      },
      "outputs": [],
      "source": [
        "# check if the variable x is an int\n",
        "type(x) is int"
      ]
    },
    {
      "cell_type": "markdown",
      "metadata": {
        "id": "H6l0Kqn6XM0T"
      },
      "source": [
        "We can also use the `isinstance` method for testing types of variables:"
      ]
    },
    {
      "cell_type": "code",
      "execution_count": null,
      "metadata": {
        "id": "fDUPyfkOXM0T"
      },
      "outputs": [],
      "source": [
        "isinstance(x, float)"
      ]
    },
    {
      "cell_type": "markdown",
      "metadata": {
        "id": "y9E6WAegXM0T"
      },
      "source": [
        "### Type casting"
      ]
    },
    {
      "cell_type": "code",
      "execution_count": null,
      "metadata": {
        "id": "0rFTEH-QXM0T"
      },
      "outputs": [],
      "source": [
        "x = 1.5\n",
        "\n",
        "print(x, type(x))"
      ]
    },
    {
      "cell_type": "code",
      "execution_count": null,
      "metadata": {
        "id": "Jj2pCdhjXM0T"
      },
      "outputs": [],
      "source": [
        "x = int(x)\n",
        "\n",
        "print(x, type(x))"
      ]
    },
    {
      "cell_type": "code",
      "execution_count": null,
      "metadata": {
        "id": "grNtBl9EXM0U"
      },
      "outputs": [],
      "source": [
        "z = complex(x)\n",
        "\n",
        "print(z, type(z))"
      ]
    },
    {
      "cell_type": "code",
      "execution_count": null,
      "metadata": {
        "id": "iyprTKikXM0U"
      },
      "outputs": [],
      "source": [
        "x = float(z)"
      ]
    },
    {
      "cell_type": "markdown",
      "metadata": {
        "id": "JCVV04mOXM0U"
      },
      "source": [
        "Complex variables cannot be cast to floats or integers. We need to use `z.real` or `z.imag` to extract the part of the complex number we want:"
      ]
    },
    {
      "cell_type": "code",
      "execution_count": null,
      "metadata": {
        "id": "YuHj3J2eXM0U"
      },
      "outputs": [],
      "source": [
        "y = bool(z.real)\n",
        "\n",
        "print(z.real, \" -> \", y, type(y))\n",
        "\n",
        "y = bool(z.imag)\n",
        "\n",
        "print(z.imag, \" -> \", y, type(y))"
      ]
    },
    {
      "cell_type": "markdown",
      "metadata": {
        "id": "7GPFj5jDXM0V"
      },
      "source": [
        "## Operators and comparisons"
      ]
    },
    {
      "cell_type": "markdown",
      "metadata": {
        "id": "32JSnow3XM0V"
      },
      "source": [
        "Most operators and comparisons in Python work as one would expect:\n",
        "\n",
        "* Arithmetic operators `+`, `-`, `*`, `/`, `//` (integer division), '**' power\n"
      ]
    },
    {
      "cell_type": "code",
      "execution_count": null,
      "metadata": {
        "id": "EhQnbHppXM0V"
      },
      "outputs": [],
      "source": [
        "1 + 2, 1 - 2, 1 * 2, 1 / 2"
      ]
    },
    {
      "cell_type": "code",
      "execution_count": null,
      "metadata": {
        "id": "Y-TTcN_sXM0V"
      },
      "outputs": [],
      "source": [
        "1.0 + 2.0, 1.0 - 2.0, 1.0 * 2.0, 1.0 / 2.0"
      ]
    },
    {
      "cell_type": "code",
      "execution_count": null,
      "metadata": {
        "id": "NDIb8rc5XM0W"
      },
      "outputs": [],
      "source": [
        "# Integer division of float numbers\n",
        "3.0 // 2.0"
      ]
    },
    {
      "cell_type": "code",
      "execution_count": null,
      "metadata": {
        "id": "EK2kg4JeXM0W"
      },
      "outputs": [],
      "source": [
        "# Note! The power operators in python isn't ^, but **\n",
        "2 ** 2"
      ]
    },
    {
      "cell_type": "markdown",
      "metadata": {
        "id": "fvNDWkISXM0W"
      },
      "source": [
        "Note: The `/` operator always performs a floating point division in Python 3.x.\n",
        "This is not true in Python 2.x, where the result of `/` is always an integer if the operands are integers.\n",
        "to be more specific, `1/2 = 0.5` (`float`) in Python 3.x, and `1/2 = 0` (`int`) in Python 2.x (but `1.0/2 = 0.5` in Python 2.x)."
      ]
    },
    {
      "cell_type": "markdown",
      "metadata": {
        "id": "E8oLwwJJXM0W"
      },
      "source": [
        "* The boolean operators are spelled out as the words `and`, `not`, `or`."
      ]
    },
    {
      "cell_type": "code",
      "execution_count": null,
      "metadata": {
        "id": "2JCgHoudXM0X"
      },
      "outputs": [],
      "source": [
        "True and False"
      ]
    },
    {
      "cell_type": "code",
      "execution_count": null,
      "metadata": {
        "id": "bTRrQEGOXM0X"
      },
      "outputs": [],
      "source": [
        "not False"
      ]
    },
    {
      "cell_type": "code",
      "execution_count": null,
      "metadata": {
        "id": "HP710eL7XM0X"
      },
      "outputs": [],
      "source": [
        "True or False"
      ]
    },
    {
      "cell_type": "markdown",
      "metadata": {
        "id": "2i0MF2OYXM0Y"
      },
      "source": [
        "* Comparison operators `>`, `<`, `>=` (greater or equal), `<=` (less or equal), `==` equality, `is` identical."
      ]
    },
    {
      "cell_type": "code",
      "execution_count": null,
      "metadata": {
        "id": "LeFKH5HAXM0Y"
      },
      "outputs": [],
      "source": [
        "2 > 1, 2 < 1"
      ]
    },
    {
      "cell_type": "code",
      "execution_count": null,
      "metadata": {
        "id": "PYHvvXxPXM0Y"
      },
      "outputs": [],
      "source": [
        "2 > 2, 2 < 2"
      ]
    },
    {
      "cell_type": "code",
      "execution_count": null,
      "metadata": {
        "id": "OYAL4eTzXM0Y"
      },
      "outputs": [],
      "source": [
        "2 >= 2, 2 <= 2"
      ]
    },
    {
      "cell_type": "code",
      "execution_count": null,
      "metadata": {
        "id": "acr22wULXM0Z"
      },
      "outputs": [],
      "source": [
        "# equality\n",
        "[1,2] == [1,2]"
      ]
    },
    {
      "cell_type": "code",
      "execution_count": null,
      "metadata": {
        "id": "WJ4hODepXM0Z"
      },
      "outputs": [],
      "source": [
        "# objects identical?\n",
        "l1 = l2 = [1,2]\n",
        "\n",
        "l1 is l2"
      ]
    },
    {
      "cell_type": "markdown",
      "metadata": {
        "id": "fIkIX8C8XM0Z"
      },
      "source": [
        "## Compound types: Strings, List and dictionaries"
      ]
    },
    {
      "cell_type": "markdown",
      "metadata": {
        "id": "K9ioV124XM0Z"
      },
      "source": [
        "### Strings"
      ]
    },
    {
      "cell_type": "markdown",
      "metadata": {
        "id": "ymTZP9m7XM0Z"
      },
      "source": [
        "Strings are the variable type that is used for storing text messages."
      ]
    },
    {
      "cell_type": "code",
      "execution_count": null,
      "metadata": {
        "id": "mmTOYOH3XM0a"
      },
      "outputs": [],
      "source": [
        "s = \"Hello world\"\n",
        "type(s)"
      ]
    },
    {
      "cell_type": "code",
      "execution_count": null,
      "metadata": {
        "id": "rmFkeKRVXM0a"
      },
      "outputs": [],
      "source": [
        "# length of the string: the number of characters\n",
        "len(s)"
      ]
    },
    {
      "cell_type": "code",
      "execution_count": null,
      "metadata": {
        "id": "AN5HDwqFXM0a"
      },
      "outputs": [],
      "source": [
        "# replace a substring in a string with something else\n",
        "s2 = s.replace(\"world\", \"test\")\n",
        "print(s2)"
      ]
    },
    {
      "cell_type": "markdown",
      "metadata": {
        "id": "iKFh-i7SXM0b"
      },
      "source": [
        "We can index a character in a string using `[]`:"
      ]
    },
    {
      "cell_type": "code",
      "execution_count": null,
      "metadata": {
        "id": "qs1ofIOzXM0b"
      },
      "outputs": [],
      "source": [
        "s[0]"
      ]
    },
    {
      "cell_type": "markdown",
      "metadata": {
        "id": "_P8uaO1SXM0b"
      },
      "source": [
        "**Heads up MATLAB users:** Indexing start at 0!\n",
        "\n",
        "We can extract a part of a string using the syntax `[start:stop]`, which extracts characters between index `start` and `stop` -1 (the character at index `stop` is not included):"
      ]
    },
    {
      "cell_type": "code",
      "execution_count": null,
      "metadata": {
        "id": "OFgwG5VoXM0b"
      },
      "outputs": [],
      "source": [
        "s[0:5]"
      ]
    },
    {
      "cell_type": "code",
      "execution_count": null,
      "metadata": {
        "id": "5dfxg3_GXM0c"
      },
      "outputs": [],
      "source": [
        "s[4:5]"
      ]
    },
    {
      "cell_type": "markdown",
      "metadata": {
        "id": "gr_rp7TYXM0c"
      },
      "source": [
        "If we omit either (or both) of `start` or `stop` from `[start:stop]`, the default is the beginning and the end of the string, respectively:"
      ]
    },
    {
      "cell_type": "code",
      "execution_count": null,
      "metadata": {
        "id": "gFjvkIkvXM0c"
      },
      "outputs": [],
      "source": [
        "s[:5]"
      ]
    },
    {
      "cell_type": "code",
      "execution_count": null,
      "metadata": {
        "id": "sS0dqTINXM0c"
      },
      "outputs": [],
      "source": [
        "s[6:]"
      ]
    },
    {
      "cell_type": "code",
      "execution_count": null,
      "metadata": {
        "id": "ULSNbiZdXM0d"
      },
      "outputs": [],
      "source": [
        "s[:]"
      ]
    },
    {
      "cell_type": "markdown",
      "metadata": {
        "id": "ef1PA8CeXM0d"
      },
      "source": [
        "We can also define the step size using the syntax `[start:end:step]` (the default value for `step` is 1, as we saw above):"
      ]
    },
    {
      "cell_type": "code",
      "execution_count": null,
      "metadata": {
        "id": "g8S6rbUmXM0d"
      },
      "outputs": [],
      "source": [
        "s[::1]"
      ]
    },
    {
      "cell_type": "code",
      "execution_count": null,
      "metadata": {
        "id": "hMzqkkrrXM0d"
      },
      "outputs": [],
      "source": [
        "s[::2]"
      ]
    },
    {
      "cell_type": "markdown",
      "metadata": {
        "id": "4LQGWMP2XM0e"
      },
      "source": [
        "This technique is called *slicing*. Read more about the syntax here: http://docs.python.org/release/2.7.3/library/functions.html?highlight=slice#slice"
      ]
    },
    {
      "cell_type": "markdown",
      "metadata": {
        "id": "pfC5A0X6XM0e"
      },
      "source": [
        "Python has a very rich set of functions for text processing. See for example http://docs.python.org/2/library/string.html for more information."
      ]
    },
    {
      "cell_type": "markdown",
      "metadata": {
        "id": "RysfCI1rXM0e"
      },
      "source": [
        "#### String formatting examples"
      ]
    },
    {
      "cell_type": "code",
      "execution_count": null,
      "metadata": {
        "id": "dofOwCL9XM0e"
      },
      "outputs": [],
      "source": [
        "print(\"str1\", \"str2\", \"str3\")  # The print statement concatenates strings with a space"
      ]
    },
    {
      "cell_type": "code",
      "execution_count": null,
      "metadata": {
        "id": "RsUFLgk8XM0f"
      },
      "outputs": [],
      "source": [
        "print(\"str1\", 1.0, False, -1j)  # The print statements converts all arguments to strings"
      ]
    },
    {
      "cell_type": "code",
      "execution_count": null,
      "metadata": {
        "id": "T2EKKjFHXM0f"
      },
      "outputs": [],
      "source": [
        "print(\"str1\" + \"str2\" + \"str3\") # strings added with + are concatenated without space"
      ]
    },
    {
      "cell_type": "code",
      "execution_count": null,
      "metadata": {
        "id": "CqyhCM2DXM0f"
      },
      "outputs": [],
      "source": [
        "print(\"value = %f\" % 1.0)       # we can use C-style string formatting"
      ]
    },
    {
      "cell_type": "code",
      "execution_count": null,
      "metadata": {
        "id": "aOegkcm0XM0g"
      },
      "outputs": [],
      "source": [
        "# this formatting creates a string\n",
        "s2 = \"value1 = %.2f. value2 = %d\" % (3.1415, 1.5)\n",
        "\n",
        "print(s2)"
      ]
    },
    {
      "cell_type": "code",
      "execution_count": null,
      "metadata": {
        "id": "A_N-EaaNXM0g"
      },
      "outputs": [],
      "source": [
        "# alternative, more intuitive way of formatting a string\n",
        "s3 = 'value1 = {0}, value2 = {1}'.format(3.1415, 1.5)\n",
        "\n",
        "print(s3)"
      ]
    },
    {
      "cell_type": "markdown",
      "metadata": {
        "id": "1jLg4lTuXM0g"
      },
      "source": [
        "### List"
      ]
    },
    {
      "cell_type": "markdown",
      "metadata": {
        "id": "C3-q_r3yXM0g"
      },
      "source": [
        "Lists are very similar to strings, except that each element can be of any type.\n",
        "\n",
        "The syntax for creating lists in Python is `[...]`:"
      ]
    },
    {
      "cell_type": "code",
      "execution_count": null,
      "metadata": {
        "id": "Hmnt78z1XM0g"
      },
      "outputs": [],
      "source": [
        "l = [1,2,3,4]\n",
        "\n",
        "print(type(l))\n",
        "print(l)"
      ]
    },
    {
      "cell_type": "markdown",
      "metadata": {
        "id": "P1hWHbHFXM0h"
      },
      "source": [
        "We can use the same slicing techniques to manipulate lists as we could use on strings:"
      ]
    },
    {
      "cell_type": "code",
      "execution_count": null,
      "metadata": {
        "id": "H9j1sm_AXM0h"
      },
      "outputs": [],
      "source": [
        "print(l)\n",
        "\n",
        "print(l[1:3])\n",
        "\n",
        "print(l[::2])"
      ]
    },
    {
      "cell_type": "markdown",
      "metadata": {
        "id": "j-D32DDXXM0h"
      },
      "source": [
        "**Heads up MATLAB users:** Indexing starts at 0!"
      ]
    },
    {
      "cell_type": "code",
      "execution_count": null,
      "metadata": {
        "id": "HaDo2g0zXM0h"
      },
      "outputs": [],
      "source": [
        "l[0]"
      ]
    },
    {
      "cell_type": "markdown",
      "metadata": {
        "id": "ISDAp1-7XM0h"
      },
      "source": [
        "Elements in a list do not all have to be of the same type:"
      ]
    },
    {
      "cell_type": "code",
      "execution_count": null,
      "metadata": {
        "id": "46WFpaAfXM0i"
      },
      "outputs": [],
      "source": [
        "l = [1, 'a', 1.0, 1-1j]\n",
        "\n",
        "print(l)"
      ]
    },
    {
      "cell_type": "markdown",
      "metadata": {
        "id": "M7naO-_6XM0i"
      },
      "source": [
        "Python lists can be inhomogeneous and arbitrarily nested:"
      ]
    },
    {
      "cell_type": "code",
      "execution_count": null,
      "metadata": {
        "id": "EzpmfjxVXM0i"
      },
      "outputs": [],
      "source": [
        "nested_list = [1, [2, [3, [4, [5]]]]]\n",
        "\n",
        "nested_list"
      ]
    },
    {
      "cell_type": "markdown",
      "metadata": {
        "id": "ghveBhZ0XM0i"
      },
      "source": [
        "Lists play a very important role in Python. For example they are used in loops and other flow control structures (discussed below). There are a number of convenient functions for generating lists of various types, for example the `range` function:"
      ]
    },
    {
      "cell_type": "code",
      "execution_count": null,
      "metadata": {
        "id": "kFUzkjwRXM0i"
      },
      "outputs": [],
      "source": [
        "start = 10\n",
        "stop = 30\n",
        "step = 2\n",
        "\n",
        "range(start, stop, step)"
      ]
    },
    {
      "cell_type": "code",
      "execution_count": null,
      "metadata": {
        "id": "5CWMPhQEXM0j"
      },
      "outputs": [],
      "source": [
        "# in python 3 range generates an iterator, which can be converted to a list using 'list(...)'.\n",
        "# It has no effect in python 2\n",
        "list(range(start, stop, step))"
      ]
    },
    {
      "cell_type": "code",
      "execution_count": null,
      "metadata": {
        "id": "3nPs9cOnXM0k"
      },
      "outputs": [],
      "source": [
        "list(range(-10, 10))"
      ]
    },
    {
      "cell_type": "code",
      "execution_count": null,
      "metadata": {
        "id": "4V9FmgKPXM0k"
      },
      "outputs": [],
      "source": [
        "s"
      ]
    },
    {
      "cell_type": "code",
      "execution_count": null,
      "metadata": {
        "id": "z9cNepLRXM0k"
      },
      "outputs": [],
      "source": [
        "# convert a string to a list by type casting:\n",
        "s2 = list(s)\n",
        "\n",
        "s2"
      ]
    },
    {
      "cell_type": "code",
      "execution_count": null,
      "metadata": {
        "id": "z-RqbVscXM0k"
      },
      "outputs": [],
      "source": [
        "# sorting lists\n",
        "s2.sort()\n",
        "\n",
        "print(s2)"
      ]
    },
    {
      "cell_type": "markdown",
      "metadata": {
        "id": "UauPCdmLXM0l"
      },
      "source": [
        "#### Adding, inserting, modifying, and removing elements from lists"
      ]
    },
    {
      "cell_type": "code",
      "execution_count": null,
      "metadata": {
        "id": "NyMbMy45XM0l"
      },
      "outputs": [],
      "source": [
        "# create a new empty list\n",
        "l = []\n",
        "\n",
        "# add an elements using `append`\n",
        "l.append(\"A\")\n",
        "l.append(\"d\")\n",
        "l.append(\"d\")\n",
        "\n",
        "print(l)"
      ]
    },
    {
      "cell_type": "markdown",
      "metadata": {
        "id": "vq4Gz_7tXM0l"
      },
      "source": [
        "We can modify lists by assigning new values to elements in the list. In technical jargon, lists are *mutable*."
      ]
    },
    {
      "cell_type": "code",
      "execution_count": null,
      "metadata": {
        "id": "dpXhanMYXM0l"
      },
      "outputs": [],
      "source": [
        "l[1] = \"p\"\n",
        "l[2] = \"p\"\n",
        "\n",
        "print(l)"
      ]
    },
    {
      "cell_type": "code",
      "execution_count": null,
      "metadata": {
        "id": "lB4VHHqYXM0l"
      },
      "outputs": [],
      "source": [
        "l[1:3] = [\"d\", \"d\"]\n",
        "\n",
        "print(l)"
      ]
    },
    {
      "cell_type": "markdown",
      "metadata": {
        "id": "fU8ftF8JXM0m"
      },
      "source": [
        "Insert an element at an specific index using `insert`"
      ]
    },
    {
      "cell_type": "code",
      "execution_count": null,
      "metadata": {
        "id": "FzDTb0RKXM0m"
      },
      "outputs": [],
      "source": [
        "l.insert(0, \"i\")\n",
        "l.insert(1, \"n\")\n",
        "l.insert(2, \"s\")\n",
        "l.insert(3, \"e\")\n",
        "l.insert(4, \"r\")\n",
        "l.insert(5, \"t\")\n",
        "\n",
        "print(l)"
      ]
    },
    {
      "cell_type": "markdown",
      "metadata": {
        "id": "Z_zYMYTAXM0m"
      },
      "source": [
        "Remove first element with specific value using 'remove'"
      ]
    },
    {
      "cell_type": "code",
      "execution_count": null,
      "metadata": {
        "id": "sD4Nu89EXM0m"
      },
      "outputs": [],
      "source": [
        "l.remove(\"A\")\n",
        "\n",
        "print(l)"
      ]
    },
    {
      "cell_type": "markdown",
      "metadata": {
        "id": "1eZg_DnPXM0n"
      },
      "source": [
        "Remove an element at a specific location using `del`:"
      ]
    },
    {
      "cell_type": "code",
      "execution_count": null,
      "metadata": {
        "id": "uehU_TiHXM0o"
      },
      "outputs": [],
      "source": [
        "del l[7]\n",
        "del l[6]\n",
        "\n",
        "print(l)"
      ]
    },
    {
      "cell_type": "markdown",
      "metadata": {
        "id": "eZtP4R8jXM0o"
      },
      "source": [
        "See `help(list)` for more details, or read the online documentation"
      ]
    },
    {
      "cell_type": "markdown",
      "metadata": {
        "id": "HzD-mQi6XM0o"
      },
      "source": [
        "### Tuples"
      ]
    },
    {
      "cell_type": "markdown",
      "metadata": {
        "id": "P1cd64NiXM0p"
      },
      "source": [
        "Tuples are like lists, except that they cannot be modified once created, that is they are *immutable*.\n",
        "\n",
        "In Python, tuples are created using the syntax `(..., ..., ...)`, or even `..., ...`:"
      ]
    },
    {
      "cell_type": "code",
      "execution_count": null,
      "metadata": {
        "id": "BDAF_PKbXM0p"
      },
      "outputs": [],
      "source": [
        "point = (10, 20)\n",
        "\n",
        "print(point, type(point))"
      ]
    },
    {
      "cell_type": "code",
      "execution_count": null,
      "metadata": {
        "id": "WcRv9CBjXM0p"
      },
      "outputs": [],
      "source": [
        "point = 10, 20\n",
        "\n",
        "print(point, type(point))"
      ]
    },
    {
      "cell_type": "markdown",
      "metadata": {
        "id": "BFdRDqKRXM0p"
      },
      "source": [
        "We can unpack a tuple by assigning it to a comma-separated list of variables:"
      ]
    },
    {
      "cell_type": "code",
      "execution_count": null,
      "metadata": {
        "id": "ORy1hW43XM0p"
      },
      "outputs": [],
      "source": [
        "x, y = point\n",
        "\n",
        "print(\"x =\", x)\n",
        "print(\"y =\", y)"
      ]
    },
    {
      "cell_type": "markdown",
      "metadata": {
        "id": "m8jDK_OgXM0q"
      },
      "source": [
        "If we try to assign a new value to an element in a tuple we get an error:"
      ]
    },
    {
      "cell_type": "code",
      "execution_count": null,
      "metadata": {
        "id": "-1F9-bxMXM0q"
      },
      "outputs": [],
      "source": [
        "point[0] = 20"
      ]
    },
    {
      "cell_type": "markdown",
      "metadata": {
        "id": "4ww0hYP9XM0q"
      },
      "source": [
        "### Dictionaries"
      ]
    },
    {
      "cell_type": "markdown",
      "metadata": {
        "id": "28SPWPvgXM0q"
      },
      "source": [
        "Dictionaries are also like lists, except that each element is a key-value pair. The syntax for dictionaries is `{key1 : value1, ...}`:"
      ]
    },
    {
      "cell_type": "code",
      "execution_count": null,
      "metadata": {
        "id": "G_LlcrTxXM0r"
      },
      "outputs": [],
      "source": [
        "params = {\"parameter1\" : 1.0,\n",
        "          \"parameter2\" : 2.0,\n",
        "          \"parameter3\" : 3.0,}\n",
        "\n",
        "print(type(params))\n",
        "print(params)"
      ]
    },
    {
      "cell_type": "code",
      "execution_count": null,
      "metadata": {
        "id": "8x0rQAaNXM0r"
      },
      "outputs": [],
      "source": [
        "print(\"parameter1 = \" + str(params[\"parameter1\"]))\n",
        "print(\"parameter2 = \" + str(params[\"parameter2\"]))\n",
        "print(\"parameter3 = \" + str(params[\"parameter3\"]))"
      ]
    },
    {
      "cell_type": "code",
      "execution_count": null,
      "metadata": {
        "id": "BRtpDRMLXM0r"
      },
      "outputs": [],
      "source": [
        "params[\"parameter1\"] = \"A\"\n",
        "params[\"parameter2\"] = \"B\"\n",
        "\n",
        "# add a new entry\n",
        "params[\"parameter4\"] = \"D\"\n",
        "\n",
        "print(\"parameter1 = \" + str(params[\"parameter1\"]))\n",
        "print(\"parameter2 = \" + str(params[\"parameter2\"]))\n",
        "print(\"parameter3 = \" + str(params[\"parameter3\"]))\n",
        "print(\"parameter4 = \" + str(params[\"parameter4\"]))"
      ]
    },
    {
      "cell_type": "markdown",
      "metadata": {
        "id": "fQubBqnmXM0r"
      },
      "source": [
        "## Control Flow"
      ]
    },
    {
      "cell_type": "markdown",
      "metadata": {
        "id": "-rbflN5CXM0r"
      },
      "source": [
        "### Conditional statements: if, elif, else"
      ]
    },
    {
      "cell_type": "markdown",
      "metadata": {
        "id": "4Sduor1TXM0s"
      },
      "source": [
        "The Python syntax for conditional execution of code uses the keywords `if`, `elif` (else if), `else`:"
      ]
    },
    {
      "cell_type": "code",
      "execution_count": null,
      "metadata": {
        "id": "s4NMQTGmXM0s"
      },
      "outputs": [],
      "source": [
        "statement1 = False\n",
        "statement2 = False\n",
        "\n",
        "if statement1:\n",
        "    print(\"statement1 is True\")\n",
        "\n",
        "elif statement2:\n",
        "    print(\"statement2 is True\")\n",
        "\n",
        "else:\n",
        "    print(\"statement1 and statement2 are False\")"
      ]
    },
    {
      "cell_type": "markdown",
      "metadata": {
        "id": "01GvbELtXM0s"
      },
      "source": [
        "For the first time, here we encounter a peculiar and unusual aspect of the Python programming language: Program blocks are defined by their indentation level.\n",
        "\n",
        "Compare to the equivalent C code:\n",
        "\n",
        "    if (statement1)\n",
        "    {\n",
        "        printf(\"statement1 is True\\n\");\n",
        "    }\n",
        "    else if (statement2)\n",
        "    {\n",
        "        printf(\"statement2 is True\\n\");\n",
        "    }\n",
        "    else\n",
        "    {\n",
        "        printf(\"statement1 and statement2 are False\\n\");\n",
        "    }\n",
        "\n",
        "In C blocks are defined by the enclosing curly brackets `{` and `}`. And the level of indentation (white space before the code statements) does not matter (completely optional).\n",
        "\n",
        "But in Python, the extent of a code block is defined by the indentation level (usually a tab or say four white spaces). This means that we have to be careful to indent our code correctly, or else we will get syntax errors."
      ]
    },
    {
      "cell_type": "markdown",
      "metadata": {
        "id": "ZfKaNWpvXM0s"
      },
      "source": [
        "#### Examples:"
      ]
    },
    {
      "cell_type": "code",
      "execution_count": null,
      "metadata": {
        "id": "xukR0WG0XM0s"
      },
      "outputs": [],
      "source": [
        "statement1 = statement2 = True\n",
        "\n",
        "if statement1:\n",
        "    if statement2:\n",
        "        print(\"both statement1 and statement2 are True\")"
      ]
    },
    {
      "cell_type": "code",
      "execution_count": null,
      "metadata": {
        "id": "U6AUze5iXM0s"
      },
      "outputs": [],
      "source": [
        "# Bad indentation!\n",
        "if statement1:\n",
        "    if statement2:\n",
        "    print(\"both statement1 and statement2 are True\")  # this line is not properly indented"
      ]
    },
    {
      "cell_type": "code",
      "execution_count": null,
      "metadata": {
        "id": "gA0T-Fn7XM0t"
      },
      "outputs": [],
      "source": [
        "statement1 = False\n",
        "\n",
        "if statement1:\n",
        "    print(\"printed if statement1 is True\")\n",
        "\n",
        "    print(\"still inside the if block\")"
      ]
    },
    {
      "cell_type": "code",
      "execution_count": null,
      "metadata": {
        "id": "qgowDAqRXM0t"
      },
      "outputs": [],
      "source": [
        "if statement1:\n",
        "    print(\"printed if statement1 is True\")\n",
        "\n",
        "print(\"now outside the if block\")"
      ]
    },
    {
      "cell_type": "markdown",
      "metadata": {
        "id": "_FlBj-PNXM0t"
      },
      "source": [
        "## Loops"
      ]
    },
    {
      "cell_type": "markdown",
      "metadata": {
        "id": "NEvoEqNHXM0t"
      },
      "source": [
        "In Python, loops can be programmed in a number of different ways. The most common is the `for` loop, which is used together with iterable objects, such as lists. The basic syntax is:"
      ]
    },
    {
      "cell_type": "markdown",
      "metadata": {
        "id": "PLXsYmUGXM0t"
      },
      "source": [
        "### **`for` loops**:"
      ]
    },
    {
      "cell_type": "code",
      "execution_count": null,
      "metadata": {
        "id": "uwqm1h5UXM0u"
      },
      "outputs": [],
      "source": [
        "for x in [1,2,3]:\n",
        "    print(x)"
      ]
    },
    {
      "cell_type": "markdown",
      "metadata": {
        "id": "phX3mt9LXM0v"
      },
      "source": [
        "The `for` loop iterates over the elements of the supplied list, and executes the containing block once for each element. Any kind of list can be used in the `for` loop. For example:"
      ]
    },
    {
      "cell_type": "code",
      "execution_count": null,
      "metadata": {
        "id": "WBIVwPJDXM0v"
      },
      "outputs": [],
      "source": [
        "for x in range(4): # by default range start at 0\n",
        "    print(x)"
      ]
    },
    {
      "cell_type": "markdown",
      "metadata": {
        "id": "FNHfkgfxXM0v"
      },
      "source": [
        "Note: `range(4)` does not include 4 !"
      ]
    },
    {
      "cell_type": "code",
      "execution_count": null,
      "metadata": {
        "id": "hkSGgDdbXM0v"
      },
      "outputs": [],
      "source": [
        "for x in range(-3,3):\n",
        "    print(x)"
      ]
    },
    {
      "cell_type": "code",
      "execution_count": null,
      "metadata": {
        "id": "ta1dosjKXM0v"
      },
      "outputs": [],
      "source": [
        "for word in [\"scientific\", \"computing\", \"with\", \"python\"]:\n",
        "    print(word)"
      ]
    },
    {
      "cell_type": "markdown",
      "metadata": {
        "id": "G0GOM75bXM0w"
      },
      "source": [
        "To iterate over key-value pairs of a dictionary:"
      ]
    },
    {
      "cell_type": "code",
      "execution_count": null,
      "metadata": {
        "id": "vXt6gWkwXM0w"
      },
      "outputs": [],
      "source": [
        "for key, value in params.items():\n",
        "    print(key + \" = \" + str(value))"
      ]
    },
    {
      "cell_type": "markdown",
      "metadata": {
        "id": "xkhCMhrAXM0w"
      },
      "source": [
        "Sometimes it is useful to have access to the indices of the values when iterating over a list. We can use the `enumerate` function for this:"
      ]
    },
    {
      "cell_type": "code",
      "execution_count": null,
      "metadata": {
        "id": "ghP1a5VXXM0w"
      },
      "outputs": [],
      "source": [
        "for idx, x in enumerate(range(-3,3)):\n",
        "    print(idx, x)"
      ]
    },
    {
      "cell_type": "markdown",
      "metadata": {
        "id": "Q7OOK7TKXM0w"
      },
      "source": [
        "### List comprehensions: Creating lists using `for` loops:"
      ]
    },
    {
      "cell_type": "markdown",
      "metadata": {
        "id": "73vNJ_YeXM0w"
      },
      "source": [
        "A convenient and compact way to initialize lists:"
      ]
    },
    {
      "cell_type": "code",
      "execution_count": null,
      "metadata": {
        "id": "DcPO6fcmXM0w"
      },
      "outputs": [],
      "source": [
        "l1 = [x**2 for x in range(0,5)]\n",
        "\n",
        "print(l1)"
      ]
    },
    {
      "cell_type": "markdown",
      "metadata": {
        "id": "UOMc1op5XM0w"
      },
      "source": [
        "### `while` loops:"
      ]
    },
    {
      "cell_type": "code",
      "execution_count": null,
      "metadata": {
        "id": "0auBGQ6GXM0w"
      },
      "outputs": [],
      "source": [
        "i = 0\n",
        "\n",
        "while i < 5:\n",
        "    print(i)\n",
        "\n",
        "    i = i + 1\n",
        "\n",
        "print(\"done\")"
      ]
    },
    {
      "cell_type": "markdown",
      "metadata": {
        "id": "7hdNrzfcXM0w"
      },
      "source": [
        "Note that the `print(\"done\")` statement is not part of the `while` loop body because of the difference in indentation."
      ]
    },
    {
      "cell_type": "markdown",
      "metadata": {
        "id": "0sny2M-JXM0x"
      },
      "source": [
        "## Functions"
      ]
    },
    {
      "cell_type": "markdown",
      "metadata": {
        "id": "kHOSsh72XM0x"
      },
      "source": [
        "A function in Python is defined using the keyword `def`, followed by a function name, a signature within parentheses `()`, and a colon `:`. The following code, with one additional level of indentation, is the function body."
      ]
    },
    {
      "cell_type": "code",
      "execution_count": null,
      "metadata": {
        "id": "v6U5v2HxXM0x"
      },
      "outputs": [],
      "source": [
        "def func0():\n",
        "    print(\"test\")"
      ]
    },
    {
      "cell_type": "code",
      "execution_count": null,
      "metadata": {
        "id": "2v1RMm_ZXM0y"
      },
      "outputs": [],
      "source": [
        "func0()"
      ]
    },
    {
      "cell_type": "markdown",
      "metadata": {
        "id": "Gmu0i9qfXM0y"
      },
      "source": [
        "Optionally, but highly recommended, we can define a so called \"docstring\", which is a description of the functions purpose and behavior. The docstring should follow directly after the function definition, before the code in the function body."
      ]
    },
    {
      "cell_type": "code",
      "execution_count": null,
      "metadata": {
        "id": "PvG6tsClXM0y"
      },
      "outputs": [],
      "source": [
        "def func1(s):\n",
        "    \"\"\"\n",
        "    Print a string 's' and tell how many characters it has\n",
        "    \"\"\"\n",
        "\n",
        "    print(s + \" has \" + str(len(s)) + \" characters\")"
      ]
    },
    {
      "cell_type": "code",
      "execution_count": null,
      "metadata": {
        "id": "02PJf5tCXM0y"
      },
      "outputs": [],
      "source": [
        "help(func1)"
      ]
    },
    {
      "cell_type": "code",
      "execution_count": null,
      "metadata": {
        "id": "oiPnZ4ncXM0y"
      },
      "outputs": [],
      "source": [
        "func1(\"test\")"
      ]
    },
    {
      "cell_type": "markdown",
      "metadata": {
        "id": "-sR_2mEAXM0y"
      },
      "source": [
        "Functions that returns a value use the `return` keyword:"
      ]
    },
    {
      "cell_type": "code",
      "execution_count": null,
      "metadata": {
        "id": "KdqQot5kXM0z"
      },
      "outputs": [],
      "source": [
        "def square(x):\n",
        "    \"\"\"\n",
        "    Return the square of x.\n",
        "    \"\"\"\n",
        "    return x ** 2"
      ]
    },
    {
      "cell_type": "code",
      "execution_count": null,
      "metadata": {
        "id": "uuJ3gOZJXM0z"
      },
      "outputs": [],
      "source": [
        "square(4)"
      ]
    },
    {
      "cell_type": "markdown",
      "metadata": {
        "id": "VJxXV40GXM0z"
      },
      "source": [
        "We can return multiple values from a function using tuples (see above):"
      ]
    },
    {
      "cell_type": "code",
      "execution_count": null,
      "metadata": {
        "id": "4FM7SehBXM0z"
      },
      "outputs": [],
      "source": [
        "def powers(x):\n",
        "    \"\"\"\n",
        "    Return a few powers of x.\n",
        "    \"\"\"\n",
        "    return x ** 2, x ** 3, x ** 4"
      ]
    },
    {
      "cell_type": "code",
      "execution_count": null,
      "metadata": {
        "id": "kz05QPY8XM0z"
      },
      "outputs": [],
      "source": [
        "powers(3)"
      ]
    },
    {
      "cell_type": "code",
      "execution_count": null,
      "metadata": {
        "id": "9xVHleA9XM00"
      },
      "outputs": [],
      "source": [
        "x2, x3, x4 = powers(3)\n",
        "\n",
        "print(x3)"
      ]
    },
    {
      "cell_type": "markdown",
      "metadata": {
        "id": "B8gIxhb3XM00"
      },
      "source": [
        "### Default argument and keyword arguments"
      ]
    },
    {
      "cell_type": "markdown",
      "metadata": {
        "id": "qhqlHjX6XM00"
      },
      "source": [
        "In a definition of a function, we can give default values to the arguments the function takes:"
      ]
    },
    {
      "cell_type": "code",
      "execution_count": null,
      "metadata": {
        "id": "DCaFpc8zXM00"
      },
      "outputs": [],
      "source": [
        "def myfunc(x, p=2, debug=False):\n",
        "    if debug:\n",
        "        print(\"evaluating myfunc for x = \" + str(x) + \" using exponent p = \" + str(p))\n",
        "    return x**p"
      ]
    },
    {
      "cell_type": "markdown",
      "metadata": {
        "id": "09jLYYriXM00"
      },
      "source": [
        "If we don't provide a value of the `debug` argument when calling the the function `myfunc` it defaults to the value provided in the function definition:"
      ]
    },
    {
      "cell_type": "code",
      "execution_count": null,
      "metadata": {
        "id": "8e5w16SnXM00"
      },
      "outputs": [],
      "source": [
        "myfunc(5)"
      ]
    },
    {
      "cell_type": "code",
      "execution_count": null,
      "metadata": {
        "id": "KAryOic-XM00"
      },
      "outputs": [],
      "source": [
        "myfunc(5, debug=True)"
      ]
    },
    {
      "cell_type": "markdown",
      "metadata": {
        "id": "YHIvnl-vXM01"
      },
      "source": [
        "If we explicitly list the name of the arguments in the function calls, they do not need to come in the same order as in the function definition. This is called *keyword* arguments, and is often very useful in functions that takes a lot of optional arguments."
      ]
    },
    {
      "cell_type": "code",
      "execution_count": null,
      "metadata": {
        "id": "Svr0amh3XM01"
      },
      "outputs": [],
      "source": [
        "myfunc(p=3, debug=True, x=7)"
      ]
    },
    {
      "cell_type": "markdown",
      "metadata": {
        "id": "qWiFrmmTXM01"
      },
      "source": [
        "### Unnamed functions (lambda function)"
      ]
    },
    {
      "cell_type": "markdown",
      "metadata": {
        "id": "HFrvB1c1XM01"
      },
      "source": [
        "In Python we can also create unnamed functions, using the `lambda` keyword:"
      ]
    },
    {
      "cell_type": "code",
      "execution_count": null,
      "metadata": {
        "id": "1ef-_XBSXM01"
      },
      "outputs": [],
      "source": [
        "f1 = lambda x: x**2\n",
        "\n",
        "# is equivalent to\n",
        "\n",
        "def f2(x):\n",
        "    return x**2"
      ]
    },
    {
      "cell_type": "code",
      "execution_count": null,
      "metadata": {
        "id": "M21OJtTQXM01"
      },
      "outputs": [],
      "source": [
        "f1(2), f2(2)"
      ]
    },
    {
      "cell_type": "markdown",
      "metadata": {
        "id": "kYaUMaXyXM02"
      },
      "source": [
        "This technique is useful for example when we want to pass a simple function as an argument to another function, like this:"
      ]
    },
    {
      "cell_type": "code",
      "execution_count": null,
      "metadata": {
        "id": "W4v8Y0FDXM02"
      },
      "outputs": [],
      "source": [
        "# map is a built-in python function\n",
        "map(lambda x: x**2, range(-3,4))"
      ]
    },
    {
      "cell_type": "code",
      "execution_count": null,
      "metadata": {
        "id": "ogS9W6YsXM02"
      },
      "outputs": [],
      "source": [
        "# in python 3 we can use `list(...)` to convert the iterator to an explicit list\n",
        "list(map(lambda x: x**2, range(-3,4)))"
      ]
    },
    {
      "cell_type": "markdown",
      "metadata": {
        "id": "qSV43aTqXM02"
      },
      "source": [
        "## Classes"
      ]
    },
    {
      "cell_type": "markdown",
      "metadata": {
        "id": "6bIv78WZXM02"
      },
      "source": [
        "Classes are the key features of object-oriented programming. A class is a structure for representing an object and the operations that can be performed on the object.\n",
        "\n",
        "In Python a class can contain *attributes* (variables) and *methods* (functions).\n",
        "\n",
        "A class is defined almost like a function, but using the `class` keyword, and the class definition usually contains a number of class method definitions (a function in a class).\n",
        "\n",
        "* Each class method should have an argument `self` as its first argument. This object is a self-reference.\n",
        "\n",
        "* Some class method names have special meaning, for example:\n",
        "\n",
        "    * `__init__`: The name of the method that is invoked when the object is first created.\n",
        "    * `__str__` : A method that is invoked when a simple string representation of the class is needed, as for example when printed.\n",
        "    * There are many more, see http://docs.python.org/2/reference/datamodel.html#special-method-names"
      ]
    },
    {
      "cell_type": "code",
      "execution_count": null,
      "metadata": {
        "id": "PJ7gtUwyXM02"
      },
      "outputs": [],
      "source": [
        "class Point:\n",
        "    \"\"\"\n",
        "    Simple class for representing a point in a Cartesian coordinate system.\n",
        "    \"\"\"\n",
        "\n",
        "    def __init__(self, x, y):\n",
        "        \"\"\"\n",
        "        Create a new Point at x, y.\n",
        "        \"\"\"\n",
        "        self.x = x\n",
        "        self.y = y\n",
        "\n",
        "    def translate(self, dx, dy):\n",
        "        \"\"\"\n",
        "        Translate the point by dx and dy in the x and y direction.\n",
        "        \"\"\"\n",
        "        self.x += dx\n",
        "        self.y += dy\n",
        "\n",
        "    def __str__(self):\n",
        "        return(\"Point at [%f, %f]\" % (self.x, self.y))"
      ]
    },
    {
      "cell_type": "markdown",
      "metadata": {
        "id": "4UvTV_3JXM03"
      },
      "source": [
        "To create a new instance of a class:"
      ]
    },
    {
      "cell_type": "code",
      "execution_count": null,
      "metadata": {
        "id": "FcPQ2ApvXM03"
      },
      "outputs": [],
      "source": [
        "p1 = Point(0, 0) # this will invoke the __init__ method in the Point class\n",
        "\n",
        "print(p1)         # this will invoke the __str__ method"
      ]
    },
    {
      "cell_type": "markdown",
      "metadata": {
        "id": "0T3oQmscXM03"
      },
      "source": [
        "To invoke a class method in the class instance `p`:"
      ]
    },
    {
      "cell_type": "code",
      "execution_count": null,
      "metadata": {
        "id": "g2Qnf3VfXM03"
      },
      "outputs": [],
      "source": [
        "p2 = Point(1, 1)\n",
        "\n",
        "p1.translate(0.25, 1.5)\n",
        "\n",
        "print(p1)\n",
        "print(p2)"
      ]
    },
    {
      "cell_type": "markdown",
      "metadata": {
        "id": "SUNesumYXM03"
      },
      "source": [
        "Note that calling class methods can modify the state of that particular class instance, but does not effect other class instances or any global variables.\n",
        "\n",
        "That is one of the nice things about object-oriented design: code such as functions and related variables are grouped in separate and independent entities."
      ]
    },
    {
      "cell_type": "markdown",
      "metadata": {
        "id": "OLHGE0_XXM03"
      },
      "source": [
        "## Modules"
      ]
    },
    {
      "cell_type": "markdown",
      "metadata": {
        "id": "aLzBwcwDXM04"
      },
      "source": [
        "One of the most important concepts in good programming is to reuse code and avoid repetitions.\n",
        "\n",
        "The idea is to write functions and classes with a well-defined purpose and scope, and reuse these instead of repeating similar code in different part of a program (modular programming). The result is usually that readability and maintainability of a program is greatly improved. What this means in practice is that our programs have fewer bugs, are easier to extend and debug/troubleshoot.\n",
        "\n",
        "Python supports modular programming at different levels. Functions and classes are examples of tools for low-level modular programming. Python modules are a higher-level modular programming construct, where we can collect related variables, functions and classes in a module. A python module is defined in a python file (with file-ending `.py`), and it can be made accessible to other Python modules and programs using the `import` statement.\n",
        "\n",
        "Consider the following example: the file `mymodule.py` contains simple example implementations of a variable, function and a class:"
      ]
    },
    {
      "cell_type": "code",
      "execution_count": null,
      "metadata": {
        "id": "nH5UgDNpXM04"
      },
      "outputs": [],
      "source": [
        "%%file mymodule.py\n",
        "\"\"\"\n",
        "Example of a python module. Contains a variable called my_variable,\n",
        "a function called my_function, and a class called MyClass.\n",
        "\"\"\"\n",
        "\n",
        "my_variable = 0\n",
        "\n",
        "def my_function():\n",
        "    \"\"\"\n",
        "    Example function\n",
        "    \"\"\"\n",
        "    return my_variable\n",
        "\n",
        "class MyClass:\n",
        "    \"\"\"\n",
        "    Example class.\n",
        "    \"\"\"\n",
        "\n",
        "    def __init__(self):\n",
        "        self.variable = my_variable\n",
        "\n",
        "    def set_variable(self, new_value):\n",
        "        \"\"\"\n",
        "        Set self.variable to a new value\n",
        "        \"\"\"\n",
        "        self.variable = new_value\n",
        "\n",
        "    def get_variable(self):\n",
        "        return self.variable"
      ]
    },
    {
      "cell_type": "markdown",
      "metadata": {
        "id": "CSe3cganXM04"
      },
      "source": [
        "We can import the module `mymodule` into our Python program using `import`:"
      ]
    },
    {
      "cell_type": "code",
      "execution_count": null,
      "metadata": {
        "id": "7YqF9siQXM04"
      },
      "outputs": [],
      "source": [
        "import mymodule"
      ]
    },
    {
      "cell_type": "markdown",
      "metadata": {
        "id": "DwkFdByiXM05"
      },
      "source": [
        "Use `help(module)` to get a summary of what the module provides:"
      ]
    },
    {
      "cell_type": "code",
      "execution_count": null,
      "metadata": {
        "id": "kE6PzoeoXM05"
      },
      "outputs": [],
      "source": [
        "help(mymodule)"
      ]
    },
    {
      "cell_type": "code",
      "execution_count": null,
      "metadata": {
        "id": "fSrMCnJSXM05"
      },
      "outputs": [],
      "source": [
        "mymodule.my_variable"
      ]
    },
    {
      "cell_type": "code",
      "execution_count": null,
      "metadata": {
        "id": "8xGkLobaXM05"
      },
      "outputs": [],
      "source": [
        "mymodule.my_function()"
      ]
    },
    {
      "cell_type": "code",
      "execution_count": null,
      "metadata": {
        "id": "ZQG8ZRTEXM05"
      },
      "outputs": [],
      "source": [
        "my_class = mymodule.MyClass()\n",
        "my_class.set_variable(10)\n",
        "my_class.get_variable()"
      ]
    },
    {
      "cell_type": "markdown",
      "metadata": {
        "id": "uyxiezMyXM05"
      },
      "source": [
        "If we make changes to the code in `mymodule.py`, we need to reload it using `reload`:"
      ]
    },
    {
      "cell_type": "code",
      "execution_count": null,
      "metadata": {
        "id": "WAoIOKs1XM06"
      },
      "outputs": [],
      "source": [
        "reload(mymodule)  # works only in python 2"
      ]
    },
    {
      "cell_type": "markdown",
      "metadata": {
        "id": "GVl2q_vSXM06"
      },
      "source": [
        "## Exceptions"
      ]
    },
    {
      "cell_type": "markdown",
      "metadata": {
        "id": "fcrR5cNCXM06"
      },
      "source": [
        "In Python errors are managed with a special language construct called \"Exceptions\". When errors occur exceptions can be raised, which interrupts the normal program flow and fallback to somewhere else in the code where the closest try-except statement is defined."
      ]
    },
    {
      "cell_type": "markdown",
      "metadata": {
        "id": "J8796RAzXM06"
      },
      "source": [
        "To generate an exception we can use the `raise` statement, which takes an argument that must be an instance of the class `BaseException` or a class derived from it."
      ]
    },
    {
      "cell_type": "code",
      "execution_count": null,
      "metadata": {
        "id": "Hvmubtb2XM06"
      },
      "outputs": [],
      "source": [
        "raise Exception(\"description of the error\")"
      ]
    },
    {
      "cell_type": "markdown",
      "metadata": {
        "id": "sWeDXn2MXM06"
      },
      "source": [
        "A typical use of exceptions is to abort functions when some error condition occurs, for example:\n",
        "\n",
        "    def my_function(arguments):\n",
        "    \n",
        "        if not verify(arguments):\n",
        "            raise Exception(\"Invalid arguments\")\n",
        "        \n",
        "        # rest of the code goes here"
      ]
    },
    {
      "cell_type": "markdown",
      "metadata": {
        "id": "QKkX_EQnXM07"
      },
      "source": [
        "To gracefully catch errors that are generated by functions and class methods, or by the Python interpreter itself, use the `try` and  `except` statements:\n",
        "\n",
        "    try:\n",
        "        # normal code goes here\n",
        "    except:\n",
        "        # code for error handling goes here\n",
        "        # this code is not executed unless the code\n",
        "        # above generated an error\n",
        "\n",
        "For example:"
      ]
    },
    {
      "cell_type": "code",
      "execution_count": null,
      "metadata": {
        "id": "WcENRvn0XM07"
      },
      "outputs": [],
      "source": [
        "try:\n",
        "    print(\"test\")\n",
        "    # generate an error: the variable test is not defined\n",
        "    print(test)\n",
        "except:\n",
        "    print(\"Caught an exception\")"
      ]
    },
    {
      "cell_type": "markdown",
      "metadata": {
        "id": "UlLMfWcIXM07"
      },
      "source": [
        "To get information about the error, we can access the `Exception` class instance that describes the exception by using for example:\n",
        "\n",
        "    except Exception as e:"
      ]
    },
    {
      "cell_type": "code",
      "execution_count": null,
      "metadata": {
        "id": "tlJbPBo5XM08"
      },
      "outputs": [],
      "source": [
        "try:\n",
        "    print(\"test\")\n",
        "    # generate an error: the variable test is not defined\n",
        "    print(test)\n",
        "except Exception as e:\n",
        "    print(\"Caught an exception:\" + str(e))"
      ]
    },
    {
      "cell_type": "markdown",
      "metadata": {
        "id": "yS610lpMXM08"
      },
      "source": [
        "## Further reading"
      ]
    },
    {
      "cell_type": "markdown",
      "metadata": {
        "id": "SWOaOkAcXM08"
      },
      "source": [
        "* http://www.python.org - The official web page of the Python programming language.\n",
        "* http://www.python.org/dev/peps/pep-0008 - Style guide for Python programming. Highly recommended.\n",
        "* http://www.greenteapress.com/thinkpython/ - A free book on Python programming.\n",
        "* [Python Essential Reference](http://www.amazon.com/Python-Essential-Reference-4th-Edition/dp/0672329786) - A good reference book on Python programming."
      ]
    }
  ],
  "metadata": {
    "kernelspec": {
      "display_name": "Python 3",
      "name": "python3"
    },
    "language_info": {
      "name": "python"
    },
    "colab": {
      "provenance": []
    }
  },
  "nbformat": 4,
  "nbformat_minor": 0
}